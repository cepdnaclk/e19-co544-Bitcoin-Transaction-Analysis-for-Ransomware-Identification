{
  "nbformat": 4,
  "nbformat_minor": 0,
  "metadata": {
    "colab": {
      "provenance": [],
      "authorship_tag": "ABX9TyOeuglemQeJqfIo691l1a6q",
      "include_colab_link": true
    },
    "kernelspec": {
      "name": "python3",
      "display_name": "Python 3"
    },
    "language_info": {
      "name": "python"
    }
  },
  "cells": [
    {
      "cell_type": "markdown",
      "metadata": {
        "id": "view-in-github",
        "colab_type": "text"
      },
      "source": [
        "<a href=\"https://colab.research.google.com/github/cepdnaclk/e19-co544-Bitcoin-Transaction-Analysis-for-Ransomware-Identification/blob/main/LR.ipynb\" target=\"_parent\"><img src=\"https://colab.research.google.com/assets/colab-badge.svg\" alt=\"Open In Colab\"/></a>"
      ]
    },
    {
      "cell_type": "code",
      "execution_count": 1,
      "metadata": {
        "id": "cE_3Y1o3H39j"
      },
      "outputs": [],
      "source": [
        "import numpy as np\n",
        "import pandas as pd\n",
        "import matplotlib.pyplot as plt\n",
        "import seaborn as sns\n",
        "from scipy import stats\n",
        "from sklearn.preprocessing import MinMaxScaler, RobustScaler\n",
        "from sklearn import preprocessing, neighbors\n",
        "from sklearn.model_selection import train_test_split\n",
        "from sklearn.preprocessing import StandardScaler"
      ]
    },
    {
      "cell_type": "code",
      "source": [
        "# Mount Google Drive\n",
        "\n",
        "from google.colab import drive\n",
        "drive.mount('/content/drive/')"
      ],
      "metadata": {
        "colab": {
          "base_uri": "https://localhost:8080/"
        },
        "id": "OUFaCFe6H6QH",
        "outputId": "156ef8cc-5814-449e-d208-771f3d702ccd"
      },
      "execution_count": 2,
      "outputs": [
        {
          "output_type": "stream",
          "name": "stdout",
          "text": [
            "Mounted at /content/drive/\n"
          ]
        }
      ]
    },
    {
      "cell_type": "code",
      "source": [
        "test_set= pd.read_csv('/content/drive/MyDrive/dataset_project/bitcoin_test_dataset.csv')\n",
        "training_set = pd.read_csv('/content/drive/MyDrive/dataset_project/bitcoin_training_dataset.csv')"
      ],
      "metadata": {
        "id": "49EQO_guH_gb"
      },
      "execution_count": 3,
      "outputs": []
    },
    {
      "cell_type": "code",
      "source": [
        "print(training_set.columns)"
      ],
      "metadata": {
        "colab": {
          "base_uri": "https://localhost:8080/"
        },
        "id": "LfWzAjbgJaLR",
        "outputId": "1a46b3bb-3a31-4ddf-c70d-717c05951d96"
      },
      "execution_count": 4,
      "outputs": [
        {
          "output_type": "stream",
          "name": "stdout",
          "text": [
            "Index(['length', 'weight', 'neighbors', 'income', 'looped', 'count', 'label'], dtype='object')\n"
          ]
        }
      ]
    },
    {
      "cell_type": "code",
      "source": [
        "X_train =  training_set.drop(columns=['label'])\n",
        "X_test = test_set.drop(columns=['label'])\n",
        "y_train = training_set['label']\n",
        "y_test = test_set['label']"
      ],
      "metadata": {
        "id": "-hNq_Oj3JDIm"
      },
      "execution_count": 4,
      "outputs": []
    },
    {
      "cell_type": "code",
      "source": [
        "y_pred = best_model.predict(X_test)\n",
        "\n",
        "# Evaluate the model\n",
        "accuracy = accuracy_score(y_test, y_pred)\n",
        "report = classification_report(y_test, y_pred)\n",
        "\n",
        "print(\"Best Parameters:\", random_search.best_params_)\n",
        "print(f\"Accuracy: {accuracy}\")\n",
        "print(\"Classification Report:\")\n",
        "print(report)"
      ],
      "metadata": {
        "colab": {
          "base_uri": "https://localhost:8080/"
        },
        "id": "Gef9CIPtSwzQ",
        "outputId": "636e2645-1fb5-48c4-d935-e3cd290fde9b"
      },
      "execution_count": 7,
      "outputs": [
        {
          "output_type": "stream",
          "name": "stdout",
          "text": [
            "Best Parameters: {'solver': 'saga', 'penalty': 'none', 'max_iter': 500, 'C': 0.615848211066026}\n",
            "Accuracy: 0.5639864783291079\n",
            "Classification Report:\n",
            "              precision    recall  f1-score   support\n",
            "\n",
            "           0       0.56      0.56      0.56      8279\n",
            "           1       0.56      0.57      0.57      8287\n",
            "\n",
            "    accuracy                           0.56     16566\n",
            "   macro avg       0.56      0.56      0.56     16566\n",
            "weighted avg       0.56      0.56      0.56     16566\n",
            "\n"
          ]
        }
      ]
    },
    {
      "cell_type": "code",
      "source": [
        "from sklearn.linear_model import LogisticRegression\n",
        "from sklearn.metrics import classification_report, accuracy_score\n",
        "\n",
        "model = LogisticRegression()\n",
        "model.fit(X_train, y_train)\n",
        "y_pred = model.predict(X_test)\n",
        "\n",
        "# Evaluate the model\n",
        "accuracy = accuracy_score(y_test, y_pred)\n",
        "report = classification_report(y_test, y_pred)\n",
        "\n",
        "print(X_train.columns)\n",
        "print(f\"Accuracy: {accuracy}\")\n",
        "print(\"Classification Report:\")\n",
        "print(report)"
      ],
      "metadata": {
        "colab": {
          "base_uri": "https://localhost:8080/"
        },
        "id": "uv2XL_O8KQW6",
        "outputId": "6921bbbe-7433-4e3b-d9c3-c1047a13bb29"
      },
      "execution_count": 5,
      "outputs": [
        {
          "output_type": "stream",
          "name": "stdout",
          "text": [
            "Index(['length', 'weight', 'neighbors', 'income', 'looped', 'count'], dtype='object')\n",
            "Accuracy: 0.5639261137269106\n",
            "Classification Report:\n",
            "              precision    recall  f1-score   support\n",
            "\n",
            "           0       0.56      0.56      0.56      8279\n",
            "           1       0.56      0.57      0.57      8287\n",
            "\n",
            "    accuracy                           0.56     16566\n",
            "   macro avg       0.56      0.56      0.56     16566\n",
            "weighted avg       0.56      0.56      0.56     16566\n",
            "\n"
          ]
        }
      ]
    },
    {
      "cell_type": "markdown",
      "source": [
        "# with polynomial features\n"
      ],
      "metadata": {
        "id": "xZQPRvQWvHKM"
      }
    },
    {
      "cell_type": "code",
      "source": [
        "from sklearn.linear_model import LogisticRegression\n",
        "from sklearn.preprocessing import PolynomialFeatures\n",
        "from sklearn.metrics import classification_report, accuracy_score\n",
        "from sklearn.model_selection import train_test_split\n",
        "\n",
        "# Assuming X_train_scaled, X_test_scaled, y_train, y_test are already defined and scaled\n",
        "\n",
        "# Create polynomial features\n",
        "poly = PolynomialFeatures(degree=3)  # You can change the degree as needed\n",
        "X_poly_train = poly.fit_transform(X_train)\n",
        "X_poly_test = poly.transform(X_test)\n",
        "\n",
        "# Fit the model\n",
        "model = LogisticRegression(max_iter=4000)\n",
        "model.fit(X_poly_train, y_train)\n",
        "\n",
        "# Predict with the model\n",
        "y_pred = model.predict(X_poly_test)\n",
        "\n",
        "# Evaluate the model\n",
        "accuracy = accuracy_score(y_test, y_pred)\n",
        "report = classification_report(y_test, y_pred)\n",
        "\n",
        "print(f\"Accuracy: {accuracy}\")\n",
        "print(\"Classification Report:\")\n",
        "print(report)\n"
      ],
      "metadata": {
        "colab": {
          "base_uri": "https://localhost:8080/"
        },
        "id": "BDfZB2Y9KX-3",
        "outputId": "5c3ac8b7-639d-485c-d6f3-f478a4f6daeb"
      },
      "execution_count": 5,
      "outputs": [
        {
          "output_type": "stream",
          "name": "stdout",
          "text": [
            "Accuracy: 0.6882168296510927\n",
            "Classification Report:\n",
            "              precision    recall  f1-score   support\n",
            "\n",
            "           0       0.74      0.59      0.65      8279\n",
            "           1       0.66      0.79      0.72      8287\n",
            "\n",
            "    accuracy                           0.69     16566\n",
            "   macro avg       0.70      0.69      0.68     16566\n",
            "weighted avg       0.70      0.69      0.68     16566\n",
            "\n"
          ]
        }
      ]
    },
    {
      "cell_type": "markdown",
      "source": [
        "# Hyper parameter tuning with polynomial features"
      ],
      "metadata": {
        "id": "5-EEjpf6vlKe"
      }
    },
    {
      "cell_type": "code",
      "source": [
        "from sklearn.linear_model import LogisticRegression\n",
        "from sklearn.preprocessing import PolynomialFeatures\n",
        "from sklearn.metrics import classification_report, accuracy_score\n",
        "from sklearn.model_selection import GridSearchCV\n",
        "\n",
        "# Assuming X_train_scaled, X_test_scaled, y_train, y_test are already defined and scaled\n",
        "\n",
        "# Create polynomial features\n",
        "poly = PolynomialFeatures(degree=2)  # You can change the degree as needed\n",
        "X_poly_train = poly.fit_transform(X_train)\n",
        "X_poly_test = poly.transform(X_test)\n",
        "\n",
        "# Define the parameter grid\n",
        "param_grid = [\n",
        "    {'penalty': ['l1'], 'solver': ['liblinear', 'saga'], 'C': np.logspace(-4, 4, 20), 'max_iter': [100, 200, 300, 400, 500, 1000]},\n",
        "    {'penalty': ['l2'], 'solver': ['newton-cg', 'lbfgs', 'liblinear', 'sag', 'saga'], 'C': np.logspace(-4, 4, 20), 'max_iter': [100, 200, 300, 400, 500, 1000]},\n",
        "    {'penalty': ['none'], 'solver': ['newton-cg', 'lbfgs', 'sag', 'saga'], 'max_iter': [100, 200, 300, 400, 500, 1000]},\n",
        "    {'penalty': ['elasticnet'], 'solver': ['saga'], 'C': np.logspace(-4, 4, 20), 'max_iter': [100, 200, 300, 400, 500, 1000], 'l1_ratio': np.linspace(0, 1, 10)}\n",
        "]\n",
        "\n",
        "# Set up the GridSearchCV\n",
        "grid_search = GridSearchCV(\n",
        "    estimator=LogisticRegression(),\n",
        "    param_grid=param_grid,\n",
        "    cv=5,  # 5-fold cross-validation\n",
        "    verbose=1,\n",
        "    n_jobs=-1  # Use all available cores\n",
        ")\n",
        "\n",
        "# Fit the model\n",
        "grid_search.fit(X_poly_train, y_train)\n",
        "\n",
        "# Get the best model\n",
        "best_model = grid_search.best_estimator_\n",
        "\n",
        "# Predict with the best model\n",
        "y_pred = best_model.predict(X_poly_test)\n",
        "\n",
        "# Evaluate the model\n",
        "accuracy = accuracy_score(y_test, y_pred)\n",
        "report = classification_report(y_test, y_pred)\n",
        "\n",
        "print(\"Best Parameters:\", grid_search.best_params_)\n",
        "print(f\"Accuracy: {accuracy}\")\n",
        "print(\"Classification Report:\")\n",
        "print(report)\n"
      ],
      "metadata": {
        "colab": {
          "base_uri": "https://localhost:8080/"
        },
        "id": "9ouDjdcZvh5G",
        "outputId": "bc49e882-26ac-4b8e-dd75-245d1c9227e3"
      },
      "execution_count": null,
      "outputs": [
        {
          "output_type": "stream",
          "name": "stdout",
          "text": [
            "Fitting 5 folds for each of 2064 candidates, totalling 10320 fits\n"
          ]
        }
      ]
    }
  ]
}